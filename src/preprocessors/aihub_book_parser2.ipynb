{
 "cells": [
  {
   "cell_type": "code",
   "execution_count": 1,
   "metadata": {},
   "outputs": [],
   "source": [
    "data_folder_path = \"/workspace/datasets/NLP/raw_datasets/ai_hub/029.대규모 구매도서 기반 한국어 말뭉치 데이터/01.데이터/4.Sample/sample/라벨링데이터/000\""
   ]
  },
  {
   "cell_type": "code",
   "execution_count": 2,
   "metadata": {},
   "outputs": [
    {
     "name": "stdout",
     "output_type": "stream",
     "text": [
      "['/workspace/datasets/NLP/raw_datasets/ai_hub/029.대규모 구매도서 기반 한국어 말뭉치 데이터/01.데이터/4.Sample/sample/라벨링데이터/000/BOOK_CORPUS_000_TEXT_0033.json', '/workspace/datasets/NLP/raw_datasets/ai_hub/029.대규모 구매도서 기반 한국어 말뭉치 데이터/01.데이터/4.Sample/sample/라벨링데이터/000/BOOK_CORPUS_000_TEXT_0022.json', '/workspace/datasets/NLP/raw_datasets/ai_hub/029.대규모 구매도서 기반 한국어 말뭉치 데이터/01.데이터/4.Sample/sample/라벨링데이터/000/BOOK_CORPUS_000_TEXT_0034.json', '/workspace/datasets/NLP/raw_datasets/ai_hub/029.대규모 구매도서 기반 한국어 말뭉치 데이터/01.데이터/4.Sample/sample/라벨링데이터/000/BOOK_CORPUS_000_INFO.json', '/workspace/datasets/NLP/raw_datasets/ai_hub/029.대규모 구매도서 기반 한국어 말뭉치 데이터/01.데이터/4.Sample/sample/라벨링데이터/000/BOOK_CORPUS_000_TEXT_0011.json', '/workspace/datasets/NLP/raw_datasets/ai_hub/029.대규모 구매도서 기반 한국어 말뭉치 데이터/01.데이터/4.Sample/sample/라벨링데이터/000/BOOK_CORPUS_000_TEXT_0019.json', '/workspace/datasets/NLP/raw_datasets/ai_hub/029.대규모 구매도서 기반 한국어 말뭉치 데이터/01.데이터/4.Sample/sample/라벨링데이터/000/BOOK_CORPUS_000_TEXT_0003.json', '/workspace/datasets/NLP/raw_datasets/ai_hub/029.대규모 구매도서 기반 한국어 말뭉치 데이터/01.데이터/4.Sample/sample/라벨링데이터/000/BOOK_CORPUS_000_TEXT_0010.json', '/workspace/datasets/NLP/raw_datasets/ai_hub/029.대규모 구매도서 기반 한국어 말뭉치 데이터/01.데이터/4.Sample/sample/라벨링데이터/000/BOOK_CORPUS_000_TEXT_0049.json', '/workspace/datasets/NLP/raw_datasets/ai_hub/029.대규모 구매도서 기반 한국어 말뭉치 데이터/01.데이터/4.Sample/sample/라벨링데이터/000/BOOK_CORPUS_000_TEXT_0008.json', '/workspace/datasets/NLP/raw_datasets/ai_hub/029.대규모 구매도서 기반 한국어 말뭉치 데이터/01.데이터/4.Sample/sample/라벨링데이터/000/BOOK_CORPUS_000_TEXT_0028.json', '/workspace/datasets/NLP/raw_datasets/ai_hub/029.대규모 구매도서 기반 한국어 말뭉치 데이터/01.데이터/4.Sample/sample/라벨링데이터/000/BOOK_CORPUS_000_TEXT_0030.json', '/workspace/datasets/NLP/raw_datasets/ai_hub/029.대규모 구매도서 기반 한국어 말뭉치 데이터/01.데이터/4.Sample/sample/라벨링데이터/000/BOOK_CORPUS_000_TEXT_0036.json', '/workspace/datasets/NLP/raw_datasets/ai_hub/029.대규모 구매도서 기반 한국어 말뭉치 데이터/01.데이터/4.Sample/sample/라벨링데이터/000/BOOK_CORPUS_000_TEXT_0025.json', '/workspace/datasets/NLP/raw_datasets/ai_hub/029.대규모 구매도서 기반 한국어 말뭉치 데이터/01.데이터/4.Sample/sample/라벨링데이터/000/BOOK_CORPUS_000_TEXT_0007.json', '/workspace/datasets/NLP/raw_datasets/ai_hub/029.대규모 구매도서 기반 한국어 말뭉치 데이터/01.데이터/4.Sample/sample/라벨링데이터/000/BOOK_CORPUS_000_TEXT_0039.json', '/workspace/datasets/NLP/raw_datasets/ai_hub/029.대규모 구매도서 기반 한국어 말뭉치 데이터/01.데이터/4.Sample/sample/라벨링데이터/000/BOOK_CORPUS_000_TEXT_0002.json', '/workspace/datasets/NLP/raw_datasets/ai_hub/029.대규모 구매도서 기반 한국어 말뭉치 데이터/01.데이터/4.Sample/sample/라벨링데이터/000/BOOK_CORPUS_000_TEXT_0029.json', '/workspace/datasets/NLP/raw_datasets/ai_hub/029.대규모 구매도서 기반 한국어 말뭉치 데이터/01.데이터/4.Sample/sample/라벨링데이터/000/BOOK_CORPUS_000_TEXT_0032.json', '/workspace/datasets/NLP/raw_datasets/ai_hub/029.대규모 구매도서 기반 한국어 말뭉치 데이터/01.데이터/4.Sample/sample/라벨링데이터/000/BOOK_CORPUS_000_TEXT_0040.json', '/workspace/datasets/NLP/raw_datasets/ai_hub/029.대규모 구매도서 기반 한국어 말뭉치 데이터/01.데이터/4.Sample/sample/라벨링데이터/000/BOOK_CORPUS_000_TEXT_0006.json', '/workspace/datasets/NLP/raw_datasets/ai_hub/029.대규모 구매도서 기반 한국어 말뭉치 데이터/01.데이터/4.Sample/sample/라벨링데이터/000/BOOK_CORPUS_000_TEXT_0016.json', '/workspace/datasets/NLP/raw_datasets/ai_hub/029.대규모 구매도서 기반 한국어 말뭉치 데이터/01.데이터/4.Sample/sample/라벨링데이터/000/BOOK_CORPUS_000_TEXT_0012.json', '/workspace/datasets/NLP/raw_datasets/ai_hub/029.대규모 구매도서 기반 한국어 말뭉치 데이터/01.데이터/4.Sample/sample/라벨링데이터/000/BOOK_CORPUS_000_TEXT_0018.json', '/workspace/datasets/NLP/raw_datasets/ai_hub/029.대규모 구매도서 기반 한국어 말뭉치 데이터/01.데이터/4.Sample/sample/라벨링데이터/000/BOOK_CORPUS_000_TEXT_0017.json', '/workspace/datasets/NLP/raw_datasets/ai_hub/029.대규모 구매도서 기반 한국어 말뭉치 데이터/01.데이터/4.Sample/sample/라벨링데이터/000/BOOK_CORPUS_000_TEXT_0023.json', '/workspace/datasets/NLP/raw_datasets/ai_hub/029.대규모 구매도서 기반 한국어 말뭉치 데이터/01.데이터/4.Sample/sample/라벨링데이터/000/BOOK_CORPUS_000_TEXT_0043.json', '/workspace/datasets/NLP/raw_datasets/ai_hub/029.대규모 구매도서 기반 한국어 말뭉치 데이터/01.데이터/4.Sample/sample/라벨링데이터/000/BOOK_CORPUS_000_TEXT_0001.json', '/workspace/datasets/NLP/raw_datasets/ai_hub/029.대규모 구매도서 기반 한국어 말뭉치 데이터/01.데이터/4.Sample/sample/라벨링데이터/000/BOOK_CORPUS_000_TEXT_0041.json', '/workspace/datasets/NLP/raw_datasets/ai_hub/029.대규모 구매도서 기반 한국어 말뭉치 데이터/01.데이터/4.Sample/sample/라벨링데이터/000/BOOK_CORPUS_000_TEXT_0047.json', '/workspace/datasets/NLP/raw_datasets/ai_hub/029.대규모 구매도서 기반 한국어 말뭉치 데이터/01.데이터/4.Sample/sample/라벨링데이터/000/BOOK_CORPUS_000_TEXT_0050.json', '/workspace/datasets/NLP/raw_datasets/ai_hub/029.대규모 구매도서 기반 한국어 말뭉치 데이터/01.데이터/4.Sample/sample/라벨링데이터/000/BOOK_CORPUS_000_TEXT_0031.json', '/workspace/datasets/NLP/raw_datasets/ai_hub/029.대규모 구매도서 기반 한국어 말뭉치 데이터/01.데이터/4.Sample/sample/라벨링데이터/000/BOOK_CORPUS_000_TEXT_0005.json', '/workspace/datasets/NLP/raw_datasets/ai_hub/029.대규모 구매도서 기반 한국어 말뭉치 데이터/01.데이터/4.Sample/sample/라벨링데이터/000/BOOK_CORPUS_000_TEXT_0021.json', '/workspace/datasets/NLP/raw_datasets/ai_hub/029.대규모 구매도서 기반 한국어 말뭉치 데이터/01.데이터/4.Sample/sample/라벨링데이터/000/BOOK_CORPUS_000_TEXT_0045.json', '/workspace/datasets/NLP/raw_datasets/ai_hub/029.대규모 구매도서 기반 한국어 말뭉치 데이터/01.데이터/4.Sample/sample/라벨링데이터/000/BOOK_CORPUS_000_TEXT_0048.json', '/workspace/datasets/NLP/raw_datasets/ai_hub/029.대규모 구매도서 기반 한국어 말뭉치 데이터/01.데이터/4.Sample/sample/라벨링데이터/000/BOOK_CORPUS_000_TEXT_0037.json', '/workspace/datasets/NLP/raw_datasets/ai_hub/029.대규모 구매도서 기반 한국어 말뭉치 데이터/01.데이터/4.Sample/sample/라벨링데이터/000/BOOK_CORPUS_000_TEXT_0015.json', '/workspace/datasets/NLP/raw_datasets/ai_hub/029.대규모 구매도서 기반 한국어 말뭉치 데이터/01.데이터/4.Sample/sample/라벨링데이터/000/BOOK_CORPUS_000_TEXT_0042.json', '/workspace/datasets/NLP/raw_datasets/ai_hub/029.대규모 구매도서 기반 한국어 말뭉치 데이터/01.데이터/4.Sample/sample/라벨링데이터/000/BOOK_CORPUS_000_TEXT_0004.json', '/workspace/datasets/NLP/raw_datasets/ai_hub/029.대규모 구매도서 기반 한국어 말뭉치 데이터/01.데이터/4.Sample/sample/라벨링데이터/000/BOOK_CORPUS_000_TEXT_0035.json', '/workspace/datasets/NLP/raw_datasets/ai_hub/029.대규모 구매도서 기반 한국어 말뭉치 데이터/01.데이터/4.Sample/sample/라벨링데이터/000/BOOK_CORPUS_000_TEXT_0009.json', '/workspace/datasets/NLP/raw_datasets/ai_hub/029.대규모 구매도서 기반 한국어 말뭉치 데이터/01.데이터/4.Sample/sample/라벨링데이터/000/BOOK_CORPUS_000_TEXT_0020.json', '/workspace/datasets/NLP/raw_datasets/ai_hub/029.대규모 구매도서 기반 한국어 말뭉치 데이터/01.데이터/4.Sample/sample/라벨링데이터/000/BOOK_CORPUS_000_TEXT_0038.json', '/workspace/datasets/NLP/raw_datasets/ai_hub/029.대규모 구매도서 기반 한국어 말뭉치 데이터/01.데이터/4.Sample/sample/라벨링데이터/000/BOOK_CORPUS_000_TEXT_0026.json', '/workspace/datasets/NLP/raw_datasets/ai_hub/029.대규모 구매도서 기반 한국어 말뭉치 데이터/01.데이터/4.Sample/sample/라벨링데이터/000/BOOK_CORPUS_000_TEXT_0046.json', '/workspace/datasets/NLP/raw_datasets/ai_hub/029.대규모 구매도서 기반 한국어 말뭉치 데이터/01.데이터/4.Sample/sample/라벨링데이터/000/BOOK_CORPUS_000_TEXT_0044.json', '/workspace/datasets/NLP/raw_datasets/ai_hub/029.대규모 구매도서 기반 한국어 말뭉치 데이터/01.데이터/4.Sample/sample/라벨링데이터/000/BOOK_CORPUS_000_TEXT_0014.json', '/workspace/datasets/NLP/raw_datasets/ai_hub/029.대규모 구매도서 기반 한국어 말뭉치 데이터/01.데이터/4.Sample/sample/라벨링데이터/000/BOOK_CORPUS_000_TEXT_0024.json', '/workspace/datasets/NLP/raw_datasets/ai_hub/029.대규모 구매도서 기반 한국어 말뭉치 데이터/01.데이터/4.Sample/sample/라벨링데이터/000/BOOK_CORPUS_000_TEXT_0027.json', '/workspace/datasets/NLP/raw_datasets/ai_hub/029.대규모 구매도서 기반 한국어 말뭉치 데이터/01.데이터/4.Sample/sample/라벨링데이터/000/BOOK_CORPUS_000_TEXT_0013.json']\n"
     ]
    }
   ],
   "source": [
    "import pandas as pd\n",
    "import os\n",
    "\n",
    "file_path_list = [os.path.join(data_folder_path, file_name) for file_name in os.listdir(data_folder_path)]\n",
    "\n",
    "print(file_path_list)"
   ]
  },
  {
   "cell_type": "code",
   "execution_count": 11,
   "metadata": {},
   "outputs": [
    {
     "name": "stdout",
     "output_type": "stream",
     "text": [
      "그래서 모두 만족하는 것은 에프이다.\n",
      "텍스처 결과물의 크기를 조절한다.\n",
      "@ 애너테이션은 괄호안에 설정한 예외 타입을 해당 메서드가 처리한다는 것을 의미한다.\n",
      "그사람은 말에서 내려 금덩어리를 받아든 다음 한스가 말에 오르는 것을 도왔습니다. 한스가 말에 오르는 그는 말고삐를 한스의 손에 굳게 쥐어 주며 말했습니다.\n",
      "집에 도착한 아내는 방에 뛰어 들어가서 의료상자를 들고 나왔고 비둘기를 아내가 붙잡았다.\n",
      "“학습에 놀이 요소가 없으면 열정이 생길 수 없어요”\n",
      "임연은마음 벅찬 무언가를 느낀 듯했고, 허홍의 마음도 형용하기 어려운 무엇인가를 느끼고 있는 듯하였다.\n",
      "일반인들이 사용한 드론의 경우 초창기에는 쿼드콥터, 쿼드로터, 쿼드로터 헬리콥터 등으로 불렸다. 쿼드나 쿼드로는 모두 숫자 4를 뜻하므로, 날개가 넷 달린 헬리콥터임을 알 수 있다. 날개가 8개 달린 드론도 있는데 옥토콥터라고 부른다. 헬기로 불리는헬리콥터는 회전 날개를 자세히 보면 꽈배기처럼 꼬여 있다.\n",
      "김그래서 부모님이 코치가 되어야 해요. 아이들을 제일 좋은 사립학교에 보내고, 학원에 보내는 것으로 부모의 역할을 다했다고 생각하면 절대로 안 되는 것이죠.\n",
      "유명한요세프 하이든의 동생인 미하일 하이든은, 오늘날 그 이름이 거의 알려져 있지 않으며 그의 곡도 거의 연주되지 않고 있지만, 그가 살았을 때는 형이나 모차르트에게도 결코 뒤지지 않는 음악가였다. 그는 26세 때 잘츠부르크의 대주교 궁정악단의 콘서트마스터라는 중요한 지위에 오른 이후 죽을 때까지 약 40년간 잘츠부르크의 대주교 밑에서 연주 활동과 작곡 활동을 계속했다. 43곡의 교향곡, 39곡의 미사곡, 12곡의 현악 4중주곡 외에도 많은 실내악곡과합창곡을작곡했다. 그리하여 잘츠부르크를 비롯해 빈과 그 밖의 외국에도 이름이 널리 알려져 있었던 작곡가였다.\n",
      "완벽한 도시인은 신기술을 시험 삼아 사용하기를 좋아하는 강력한 모험가 유형이지만, 집에 대해서는 안정파의 태도를 취한다. 일과 외부활동으로 바쁘고 활발하게 활동하는 가운데 일상에 편리함을 더하고 관계를 유지해주는 기술을 좋아한다. 집에서는 최상의 컨디션을 유지하고 싶기 때문에 편안함을 무엇보다 중요시한다. 여기서 편안함이란 고품질에 제대로 설계된, 제 기능을 하는 제품과 서비스를 의미한다.\n"
     ]
    }
   ],
   "source": [
    "import json\n",
    "\n",
    "for file_path in file_path_list:\n",
    "    with open(file_path, \"r\") as f:\n",
    "        json_data = json.load(f)\n",
    "        \n",
    "        for idx, paragraph in enumerate(json_data['paragraphs']):\n",
    "            \n",
    "            paragraph_text = \" \".join([i['text'] for i in paragraph['sentences']])\n",
    "            \n",
    "            print(paragraph_text)\n",
    "            \n",
    "            if idx == 10:\n",
    "                break\n",
    "        \n",
    "        break"
   ]
  },
  {
   "cell_type": "code",
   "execution_count": null,
   "metadata": {},
   "outputs": [],
   "source": []
  }
 ],
 "metadata": {
  "kernelspec": {
   "display_name": "Python 3",
   "language": "python",
   "name": "python3"
  },
  "language_info": {
   "codemirror_mode": {
    "name": "ipython",
    "version": 3
   },
   "file_extension": ".py",
   "mimetype": "text/x-python",
   "name": "python",
   "nbconvert_exporter": "python",
   "pygments_lexer": "ipython3",
   "version": "3.10.12"
  },
  "orig_nbformat": 4
 },
 "nbformat": 4,
 "nbformat_minor": 2
}
