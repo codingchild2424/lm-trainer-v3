{
 "cells": [
  {
   "cell_type": "code",
   "execution_count": 7,
   "metadata": {},
   "outputs": [],
   "source": [
    "import json\n",
    "\n",
    "src_path = \"/workspace/Coding/lm-trainer/datasets/pre_datasets/inst_data/tinystories_ko.json\"\n",
    "dst_path = \"/workspace/Coding/lm-trainer/datasets/pre_datasets/inst_data/tinystories_ko.jsonl\"\n",
    "\n",
    "# read jsonl each line and add <|endoftext|> token in the last\n",
    "with open(src_path, \"r\") as f:\n",
    "    lines = f.readlines()\n",
    "    lines = [json.loads(line) for line in lines]\n",
    "\n",
    "    lines_list = []\n",
    "\n",
    "    for line in lines:\n",
    "        \n",
    "        dummy1 = line['text'].split('이야기:')[0] + \"이야기: \" + line['text'].split('이야기:')[1]\n",
    "        dummy2 = dummy1.split('### 제목:')[0] + \"\\n\\n### 제목: \" + dummy1.split('### 제목:')[1]\n",
    "        \n",
    "        lines_list.append(\n",
    "            dummy2\n",
    "        )\n"
   ]
  },
  {
   "cell_type": "code",
   "execution_count": 8,
   "metadata": {},
   "outputs": [],
   "source": [
    "# save as jsonl\n",
    "with open(dst_path, \"w\") as f:\n",
    "    for line in lines_list:\n",
    "        line = {\"text\": line}\n",
    "        f.write(json.dumps(line, ensure_ascii=False) + \"\\n\")"
   ]
  },
  {
   "cell_type": "code",
   "execution_count": 10,
   "metadata": {},
   "outputs": [],
   "source": [
    "import json\n",
    "\n",
    "src_path = \"/workspace/Coding/lm-trainer/datasets/pre_datasets/inst_data/tinystories_ko.json\"\n",
    "dst_path = \"/workspace/Coding/lm-trainer/datasets/pre_datasets/inst_data/tinystories_ko_instruction.json\"\n",
    "\n",
    "instruction = \" \".join([\n",
    "    \"### 지시: 지금부터 이야기에 대한 적절한 제목을 작성합니다.\",\n",
    "    \"제목은 15자 이내로 짧게 작성합니다.\",\n",
    "    \"민감한 사회적 문제, 욕설, 위험, 폭력적인 제목은 절대 만들지 않습니다.\",\n",
    "    \"불필요하게 비슷한 말을 반복하지 않습니다.\",\n",
    "    \"명사형으로 마무리합니다.\",\n",
    "    \"자, 그럼 이제부터 제목 만들기를 시작합니다.\"\n",
    "])\n",
    "\n",
    "# read jsonl each line and add <|endoftext|> token in the last\n",
    "with open(src_path, \"r\") as f:\n",
    "    lines = f.readlines()\n",
    "    lines = [json.loads(line) for line in lines]\n",
    "\n",
    "    lines_list = []\n",
    "\n",
    "    for line in lines:\n",
    "        \n",
    "        dummy = instruction + \"\\n\\n\" + line['text']\n",
    "        \n",
    "        lines_list.append(\n",
    "            dummy\n",
    "        )\n"
   ]
  },
  {
   "cell_type": "code",
   "execution_count": 11,
   "metadata": {},
   "outputs": [],
   "source": [
    "# save as jsonl\n",
    "with open(dst_path, \"w\") as f:\n",
    "    for line in lines_list:\n",
    "        line = {\"text\": line}\n",
    "        f.write(json.dumps(line, ensure_ascii=False) + \"\\n\")"
   ]
  },
  {
   "cell_type": "markdown",
   "metadata": {},
   "source": [
    "# tsv -> json"
   ]
  },
  {
   "cell_type": "code",
   "execution_count": 14,
   "metadata": {},
   "outputs": [
    {
     "name": "stdout",
     "output_type": "stream",
     "text": [
      "(41304, 2)\n"
     ]
    },
    {
     "data": {
      "text/html": [
       "<div>\n",
       "<style scoped>\n",
       "    .dataframe tbody tr th:only-of-type {\n",
       "        vertical-align: middle;\n",
       "    }\n",
       "\n",
       "    .dataframe tbody tr th {\n",
       "        vertical-align: top;\n",
       "    }\n",
       "\n",
       "    .dataframe thead th {\n",
       "        text-align: right;\n",
       "    }\n",
       "</style>\n",
       "<table border=\"1\" class=\"dataframe\">\n",
       "  <thead>\n",
       "    <tr style=\"text-align: right;\">\n",
       "      <th></th>\n",
       "      <th>TITLE</th>\n",
       "      <th>CONTENT</th>\n",
       "    </tr>\n",
       "  </thead>\n",
       "  <tbody>\n",
       "    <tr>\n",
       "      <th>0</th>\n",
       "      <td>운동장의 비밀사물함</td>\n",
       "      <td>학교 운동장에서 농구를 하던 중에, 난 손목을 다쳤다. 도와줄 사람이 없는 답답한 ...</td>\n",
       "    </tr>\n",
       "    <tr>\n",
       "      <th>1</th>\n",
       "      <td>작은 동심의 우주 탐험기</td>\n",
       "      <td>작은 동심과 함께 공간 여행을 떠나는 아이. 다양한 행성을 방문하면서 화성에서 화염...</td>\n",
       "    </tr>\n",
       "    <tr>\n",
       "      <th>2</th>\n",
       "      <td>작은 몸이지만 큰 마음, 어린 왕자의 이야기</td>\n",
       "      <td>어린 왕자는 우리의 행성에서 왔다. 그는 아주 작지만 마음은 아름다웠다. 처음에는 ...</td>\n",
       "    </tr>\n",
       "    <tr>\n",
       "      <th>3</th>\n",
       "      <td>용감한 토끼와 세상에서 가장 귀여운 친구</td>\n",
       "      <td>한 마리 토끼가 숲속을 거닐고 있었어요. 갑자기 새끼 늑대가 출현해서 토끼를 쫓기 ...</td>\n",
       "    </tr>\n",
       "    <tr>\n",
       "      <th>4</th>\n",
       "      <td>무지개 나무의 비밀 대모험</td>\n",
       "      <td>여름방학, 나는 할아버지 할머니와 함께 옛날 여행을 떠났다. 우리는 타고 있는 열차...</td>\n",
       "    </tr>\n",
       "  </tbody>\n",
       "</table>\n",
       "</div>"
      ],
      "text/plain": [
       "                      TITLE                                            CONTENT\n",
       "0                운동장의 비밀사물함  학교 운동장에서 농구를 하던 중에, 난 손목을 다쳤다. 도와줄 사람이 없는 답답한 ...\n",
       "1             작은 동심의 우주 탐험기  작은 동심과 함께 공간 여행을 떠나는 아이. 다양한 행성을 방문하면서 화성에서 화염...\n",
       "2  작은 몸이지만 큰 마음, 어린 왕자의 이야기  어린 왕자는 우리의 행성에서 왔다. 그는 아주 작지만 마음은 아름다웠다. 처음에는 ...\n",
       "3    용감한 토끼와 세상에서 가장 귀여운 친구  한 마리 토끼가 숲속을 거닐고 있었어요. 갑자기 새끼 늑대가 출현해서 토끼를 쫓기 ...\n",
       "4            무지개 나무의 비밀 대모험  여름방학, 나는 할아버지 할머니와 함께 옛날 여행을 떠났다. 우리는 타고 있는 열차..."
      ]
     },
     "execution_count": 14,
     "metadata": {},
     "output_type": "execute_result"
    }
   ],
   "source": [
    "import pandas as pd\n",
    "\n",
    "src_path = \"/workspace/Coding/lm-trainer/datasets/raw_datasets/title_gen/preprocessed_gen.tsv\"\n",
    "dst_path = \"/workspace/Coding/lm-trainer/datasets/raw_datasets/title_gen/preprocessed_gen.json\"\n",
    "\n",
    "df = pd.read_csv(src_path, sep=\"\\t\")\n",
    "\n",
    "print(df.shape)\n",
    "df.head()"
   ]
  },
  {
   "cell_type": "code",
   "execution_count": 15,
   "metadata": {},
   "outputs": [
    {
     "data": {
      "text/plain": [
       "(41304, 2)"
      ]
     },
     "execution_count": 15,
     "metadata": {},
     "output_type": "execute_result"
    }
   ],
   "source": [
    "df = df.dropna()\n",
    "df.shape"
   ]
  },
  {
   "cell_type": "code",
   "execution_count": 16,
   "metadata": {},
   "outputs": [],
   "source": [
    "# read jsonl each line and add <|endoftext|> token in the last\n",
    "\n",
    "pre_row_list = []\n",
    "\n",
    "for idx, row in df.iterrows():\n",
    "    pre_row = \"### 이야기: \" + row[\"CONTENT\"] + \"\\n\\n\" + \"### 제목: \" + row[\"TITLE\"] + \"<|endoftext|>\"\n",
    "    pre_row_list.append(pre_row)"
   ]
  },
  {
   "cell_type": "code",
   "execution_count": 17,
   "metadata": {},
   "outputs": [],
   "source": [
    "# save as jsonl\n",
    "with open(dst_path, \"w\") as f:\n",
    "    for line in pre_row_list:\n",
    "        line = {\"text\": line}\n",
    "        f.write(json.dumps(line, ensure_ascii=False) + \"\\n\")"
   ]
  },
  {
   "cell_type": "code",
   "execution_count": 18,
   "metadata": {},
   "outputs": [],
   "source": [
    "dst_path = \"/workspace/Coding/lm-trainer/datasets/raw_datasets/title_gen/preprocessed_gen_instruct.json\"\n",
    "\n",
    "instruct_pre_row_list = []\n",
    "\n",
    "for idx, row in df.iterrows():\n",
    "    pre_row = instruction + \"\\n\\n\" + \"### 이야기: \" + row[\"CONTENT\"] + \"\\n\\n\" + \"### 제목: \" + row[\"TITLE\"] + \"<|endoftext|>\"\n",
    "    instruct_pre_row_list.append(pre_row)"
   ]
  },
  {
   "cell_type": "code",
   "execution_count": 19,
   "metadata": {},
   "outputs": [],
   "source": [
    "# save as jsonl\n",
    "with open(dst_path, \"w\") as f:\n",
    "    for line in instruct_pre_row_list:\n",
    "        line = {\"text\": line}\n",
    "        f.write(json.dumps(line, ensure_ascii=False) + \"\\n\")"
   ]
  },
  {
   "cell_type": "code",
   "execution_count": null,
   "metadata": {},
   "outputs": [],
   "source": []
  }
 ],
 "metadata": {
  "kernelspec": {
   "display_name": "Python 3",
   "language": "python",
   "name": "python3"
  },
  "language_info": {
   "codemirror_mode": {
    "name": "ipython",
    "version": 3
   },
   "file_extension": ".py",
   "mimetype": "text/x-python",
   "name": "python",
   "nbconvert_exporter": "python",
   "pygments_lexer": "ipython3",
   "version": "3.10.12"
  },
  "orig_nbformat": 4
 },
 "nbformat": 4,
 "nbformat_minor": 2
}
