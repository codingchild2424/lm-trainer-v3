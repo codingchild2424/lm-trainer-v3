{
 "cells": [
  {
   "cell_type": "code",
   "execution_count": 7,
   "metadata": {},
   "outputs": [],
   "source": [
    "src_path = \"/workspace/Coding/lm-trainer/datasets/raw_datasets/panyo_corpus/kor_en_panyo_corpus.jsonl\"\n",
    "dst_korean_path = \"/workspace/Coding/lm-trainer/datasets/pre_datasets/panyo_data/kor_corpus.jsonl\"\n",
    "dst_pangyo_path = \"/workspace/Coding/lm-trainer/datasets/pre_datasets/panyo_data/pangyo_corpus.jsonl\"\n",
    "\n",
    "import json"
   ]
  },
  {
   "cell_type": "code",
   "execution_count": 9,
   "metadata": {},
   "outputs": [],
   "source": [
    "def write_json_line(path, dict_line):\n",
    "    with open(path, \"a\") as f:\n",
    "        json.dump(dict_line, f, ensure_ascii=False)\n",
    "        f.write(\"\\n\")\n",
    "\n",
    "\n",
    "with open(src_path, \"r\") as f:\n",
    "    lines = f.readlines()\n",
    "    for line in lines:\n",
    "        dict_line = json.loads(line)\n",
    "        korean_text = dict_line[\"korean\"]\n",
    "        pangyo_text = dict_line[\"pangyo\"]\n",
    "        \n",
    "        json_korean_line = {\"text\": korean_text}\n",
    "        write_json_line(dst_korean_path, json_korean_line)\n",
    "        \n",
    "        json_pangyo_line = {\"text\": pangyo_text}\n",
    "        write_json_line(dst_pangyo_path, json_pangyo_line)"
   ]
  },
  {
   "cell_type": "code",
   "execution_count": null,
   "metadata": {},
   "outputs": [],
   "source": []
  }
 ],
 "metadata": {
  "kernelspec": {
   "display_name": "Python 3 (ipykernel)",
   "language": "python",
   "name": "python3"
  },
  "orig_nbformat": 4
 },
 "nbformat": 4,
 "nbformat_minor": 2
}
