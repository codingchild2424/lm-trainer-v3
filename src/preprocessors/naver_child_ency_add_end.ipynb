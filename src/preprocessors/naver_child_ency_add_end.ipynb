{
 "cells": [
  {
   "cell_type": "code",
   "execution_count": 13,
   "metadata": {},
   "outputs": [],
   "source": [
    "path = \"/workspace/Coding/lm-trainer/datasets/pre_datasets/cl_data/naver_child_ency_add_end.json\"\n",
    "\n",
    "import json\n",
    "\n",
    "\n",
    "dst_path = \"/workspace/Coding/lm-trainer/datasets/pre_datasets/cl_data/naver_child_ency_add_end2.json\"\n",
    "\n",
    "def save_json(data, dst_path):\n",
    "    with open(dst_path, 'a') as f:\n",
    "        json.dump(data, f, ensure_ascii=False)\n",
    "        f.write('\\n')\n",
    "\n",
    "# read each line iteratively and append to list\n",
    "with open(path, 'r') as f:\n",
    "    for idx, line in enumerate(f):\n",
    "\n",
    "        line_data = json.loads(line)\n",
    "\n",
    "        json_data = {\n",
    "            \"text\": line_data['text'] + \"<|endoftext|>\"\n",
    "        }\n",
    "        save_json(json_data, dst_path)"
   ]
  },
  {
   "cell_type": "code",
   "execution_count": 14,
   "metadata": {},
   "outputs": [],
   "source": [
    "data1 = \"/workspace/Coding/lm-trainer/datasets/pre_datasets/cl_data/aihub_book.json\"\n",
    "data2 = \"/workspace/Coding/lm-trainer/datasets/pre_datasets/cl_data/aihub_emochat.json\"\n",
    "data3 = \"/workspace/Coding/lm-trainer/datasets/pre_datasets/cl_data/aihub_sns.json\"\n",
    "data4 = \"/workspace/Coding/lm-trainer/datasets/pre_datasets/cl_data/aihub_web.json\"\n",
    "data5 = \"/workspace/Coding/lm-trainer/datasets/pre_datasets/cl_data/naver_child_ency_100000.json\""
   ]
  },
  {
   "cell_type": "code",
   "execution_count": 18,
   "metadata": {},
   "outputs": [
    {
     "name": "stdout",
     "output_type": "stream",
     "text": [
      "492171\n"
     ]
    }
   ],
   "source": [
    "with open(data1, 'r') as f:\n",
    "    # count all lines\n",
    "    count = sum(1 for _ in f)\n",
    "    print(count)"
   ]
  },
  {
   "cell_type": "code",
   "execution_count": 19,
   "metadata": {},
   "outputs": [
    {
     "name": "stdout",
     "output_type": "stream",
     "text": [
      "58268\n"
     ]
    }
   ],
   "source": [
    "with open(data2, 'r') as f:\n",
    "    # count all lines\n",
    "    count = sum(1 for _ in f)\n",
    "    print(count)"
   ]
  },
  {
   "cell_type": "code",
   "execution_count": 20,
   "metadata": {},
   "outputs": [
    {
     "name": "stdout",
     "output_type": "stream",
     "text": [
      "1799996\n"
     ]
    }
   ],
   "source": [
    "with open(data3, 'r') as f:\n",
    "    # count all lines\n",
    "    count = sum(1 for _ in f)\n",
    "    print(count)"
   ]
  },
  {
   "cell_type": "code",
   "execution_count": 21,
   "metadata": {},
   "outputs": [
    {
     "name": "stdout",
     "output_type": "stream",
     "text": [
      "5547176\n"
     ]
    }
   ],
   "source": [
    "with open(data4, 'r') as f:\n",
    "    # count all lines\n",
    "    count = sum(1 for _ in f)\n",
    "    print(count)"
   ]
  },
  {
   "cell_type": "code",
   "execution_count": 22,
   "metadata": {},
   "outputs": [
    {
     "name": "stdout",
     "output_type": "stream",
     "text": [
      "124004\n"
     ]
    }
   ],
   "source": [
    "with open(data5, 'r') as f:\n",
    "    # count all lines\n",
    "    count = sum(1 for _ in f)\n",
    "    print(count)"
   ]
  },
  {
   "cell_type": "code",
   "execution_count": 25,
   "metadata": {},
   "outputs": [],
   "source": [
    "import random\n",
    "\n",
    "total_path = \"/workspace/Coding/lm-trainer/datasets/pre_datasets/cl_data/total.json\"\n",
    "\n",
    "with open(data1, 'r') as f:\n",
    "\n",
    "    # shuffle data\n",
    "    data = f.readlines()\n",
    "    random.shuffle(data)\n",
    "\n",
    "    # 100000 random sampling and save using save_json function\n",
    "    for idx, line in enumerate(data[:100000]):\n",
    "        line_data = json.loads(line)\n",
    "        save_json(line_data, total_path)"
   ]
  },
  {
   "cell_type": "code",
   "execution_count": 26,
   "metadata": {},
   "outputs": [],
   "source": [
    "with open(data2, 'r') as f:\n",
    "\n",
    "    # shuffle data\n",
    "    data = f.readlines()\n",
    "    random.shuffle(data)\n",
    "\n",
    "    # 100000 random sampling and save using save_json function\n",
    "    for idx, line in enumerate(data[:20000]):\n",
    "        line_data = json.loads(line)\n",
    "        save_json(line_data, total_path)"
   ]
  },
  {
   "cell_type": "code",
   "execution_count": 27,
   "metadata": {},
   "outputs": [],
   "source": [
    "with open(data3, 'r') as f:\n",
    "\n",
    "    # shuffle data\n",
    "    data = f.readlines()\n",
    "    random.shuffle(data)\n",
    "\n",
    "    # 100000 random sampling and save using save_json function\n",
    "    for idx, line in enumerate(data[:20000]):\n",
    "        line_data = json.loads(line)\n",
    "        save_json(line_data, total_path)"
   ]
  },
  {
   "cell_type": "code",
   "execution_count": 28,
   "metadata": {},
   "outputs": [],
   "source": [
    "with open(data4, 'r') as f:\n",
    "\n",
    "    # shuffle data\n",
    "    data = f.readlines()\n",
    "    random.shuffle(data)\n",
    "\n",
    "    # 100000 random sampling and save using save_json function\n",
    "    for idx, line in enumerate(data[:100000]):\n",
    "        line_data = json.loads(line)\n",
    "        save_json(line_data, total_path)"
   ]
  },
  {
   "cell_type": "code",
   "execution_count": 29,
   "metadata": {},
   "outputs": [],
   "source": [
    "with open(data5, 'r') as f:\n",
    "\n",
    "    # shuffle data\n",
    "    data = f.readlines()\n",
    "    random.shuffle(data)\n",
    "\n",
    "    # 100000 random sampling and save using save_json function\n",
    "    for idx, line in enumerate(data):\n",
    "        line_data = json.loads(line)\n",
    "        save_json(line_data, total_path)"
   ]
  },
  {
   "cell_type": "code",
   "execution_count": 30,
   "metadata": {},
   "outputs": [
    {
     "name": "stdout",
     "output_type": "stream",
     "text": [
      "364004\n"
     ]
    }
   ],
   "source": [
    "with open(total_path, 'r') as f:\n",
    "    # count all lines\n",
    "    count = sum(1 for _ in f)\n",
    "    print(count)"
   ]
  },
  {
   "cell_type": "code",
   "execution_count": 31,
   "metadata": {},
   "outputs": [],
   "source": [
    "data6 = \"/workspace/Coding/lm-trainer/datasets/pre_datasets/cl_data/KoAlpaca_v1.1a_textonly.json\"\n",
    "\n",
    "with open(data6, 'r') as f:\n",
    "\n",
    "    # shuffle data\n",
    "    data = f.readlines()\n",
    "    random.shuffle(data)\n",
    "\n",
    "    # 100000 random sampling and save using save_json function\n",
    "    for idx, line in enumerate(data):\n",
    "        line_data = json.loads(line)\n",
    "        save_json(line_data, total_path)"
   ]
  },
  {
   "cell_type": "code",
   "execution_count": 32,
   "metadata": {},
   "outputs": [
    {
     "name": "stdout",
     "output_type": "stream",
     "text": [
      "385159\n"
     ]
    }
   ],
   "source": [
    "with open(total_path, 'r') as f:\n",
    "    # count all lines\n",
    "    count = sum(1 for _ in f)\n",
    "    print(count)"
   ]
  },
  {
   "cell_type": "code",
   "execution_count": null,
   "metadata": {},
   "outputs": [],
   "source": []
  }
 ],
 "metadata": {
  "kernelspec": {
   "display_name": "Python 3",
   "language": "python",
   "name": "python3"
  },
  "language_info": {
   "codemirror_mode": {
    "name": "ipython",
    "version": 3
   },
   "file_extension": ".py",
   "mimetype": "text/x-python",
   "name": "python",
   "nbconvert_exporter": "python",
   "pygments_lexer": "ipython3",
   "version": "3.10.12"
  },
  "orig_nbformat": 4
 },
 "nbformat": 4,
 "nbformat_minor": 2
}
