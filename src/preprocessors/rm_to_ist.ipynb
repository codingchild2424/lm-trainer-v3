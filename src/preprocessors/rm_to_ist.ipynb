{
 "cells": [
  {
   "cell_type": "code",
   "execution_count": 8,
   "metadata": {},
   "outputs": [],
   "source": [
    "inst_text_list = [\n",
    "    \"### 지시: 릴레이 동화 만들기를 진행합니다. 문장 하나씩 순차적으로 이야기를 만들어갑니다. 등장인물의 성격이나 배경을 지나치게 복잡하게 설정하지 않습니다. 이야기의 흐름을 자연스럽게 유지하며, 문장 간 연결이 자연스러워야 합니다. 모든 등장인물은 친절하게 대화해야 합니다. 시작해봅시다!\",\n",
    "    \"### 지시: 릴레이 동화 만들기를 진행합니다. 매 문장마다 새로운 상황이나 배경을 추가합니다. 비현실적인 상황이나 매직을 활용해도 좋습니다. 하지만 너무 어려운 단어나 내용을 사용하지 않습니다. 동화 내에서는 화해와 우정의 중요성을 강조합니다. 준비되셨나요? 시작하죠!\",\n",
    "    \"### 지시: 동화를 함께 만들어가는 릴레이를 시작합니다. 한 문장씩 차례로 추가해주세요. 등장인물 간의 대화는 서로를 존중하고 이해하는 내용이어야 합니다. 지나치게 긴 문장은 피하며, 이야기의 목적은 어린이들에게 희망과 용기를 전달하는 것입니다. 함께 만들어가봅시다!\",\n",
    "    \"### 지시: 릴레이 형식으로 동화의 장면을 만들어봅시다. 매 문장은 이전 문장과 자연스럽게 연결되어야 합니다. 과거, 현재, 미래의 시간 순서를 혼동하지 않도록 주의합니다. 이야기는 긍정적인 결말로 마무리되어야 합니다. 준비되었나요? 시작합니다!\",\n",
    "    \"### 지시: 함께 릴레이 동화를 만들어봅시다. 릴레이 형식으로 진행되며, 각 문장은 이전의 문장과 잘 어우러져야 합니다. 동화 속 세계는 상상력을 최대한 발휘하여 만들어봅시다. 하지만 너무 어려운 내용이나 단어는 피합니다. 모두 준비되셨다면, 이제 시작해보죠!\",\n",
    "    \"### 지시: 릴레이 동화 만들기의 세계에 함께 뛰어들어봅시다. 매 문장은 이전 문장의 내용을 이어 받아 자연스럽게 이야기를 진행해주세요. 동화 속의 세계는 따뜻하고 행복한 장소여야 합니다. 어떤 상황이든 긍정적인 방향으로 해결하는 것을 목표로 합니다. 시작하시죠!\",\n",
    "    \"### 지시: 릴레이 동화를 함께 만들어봅시다. 한 문장씩 릴레이 형태로 이어가면서, 서로 다른 배경과 시나리오를 탐험해봅시다. 하지만 주인공의 목표나 꿈은 일관되게 유지되어야 합니다. 이야기는 결국 주인공의 꿈을 이루는 모습으로 마무리됩니다. 자, 시작해볼까요?\",\n",
    "    \"### 지시: 릴레이로 동화의 흐름을 만들어봅니다. 각자의 문장은 이전 문장과 연관성을 가지며, 동화 내에서는 서로 도와주고 배려하는 메시지를 전달합니다. 문장은 간결하고 명료하게 작성해주세요. 모두 준비가 되었다면, 함께 동화를 만들어봅시다!\",\n",
    "    \"### 지시: 함께하는 릴레이 동화 만들기를 시작합니다. 이야기는 한 마을에서 벌어지는 사건을 중심으로 진행됩니다. 매 문장은 마을의 다양한 인물들과 그들의 생활을 그려내야 합니다. 이야기는 마을 사람들의 협력과 사랑을 중심으로 진행됩니다. 준비되었나요? 시작합니다!\",\n",
    "    \"### 지시: 동화 릴레이의 세계로 함께 떠나봅시다. 한 문장씩 이어가며, 동화의 세계는 아름답고 평화로운 장소로 그려집니다. 등장인물들은 서로의 차이를 인정하며, 그 차이를 통해 서로를 더욱 깊게 이해합니다. 함께 이 아름다운 이야기를 만들어봅시다!\"\n",
    "]"
   ]
  },
  {
   "cell_type": "code",
   "execution_count": 9,
   "metadata": {},
   "outputs": [],
   "source": [
    "src_path = \"/workspace/Coding/lm-trainer/datasets/pre_datasets/rm_data/ise_book_data_1000.json\"\n",
    "dst_path = \"/workspace/Coding/lm-trainer/datasets/pre_datasets/inst_data/ise_book_data_1000.json\"\n",
    "\n",
    "import json\n",
    "import random\n",
    "\n",
    "with open(src_path, 'r') as f:\n",
    "    # read line by line\n",
    "    lines = f.readlines()\n",
    "    # convert to json\n",
    "    for line in lines:\n",
    "        line = json.loads(line)\n",
    "        chosen_line = line['chosen']\n",
    "\n",
    "        # add instruction\n",
    "        inst_text = random.choice(inst_text_list)\n",
    "\n",
    "        new_json_line = {\"text\": inst_text + \"\\n\\n\" + chosen_line}\n",
    "\n",
    "        with open(dst_path, 'a') as new_f:\n",
    "            json.dump(new_json_line, new_f, ensure_ascii=False)\n",
    "            new_f.write('\\n')\n"
   ]
  },
  {
   "cell_type": "code",
   "execution_count": null,
   "metadata": {},
   "outputs": [],
   "source": []
  }
 ],
 "metadata": {
  "kernelspec": {
   "display_name": "Python 3",
   "language": "python",
   "name": "python3"
  },
  "language_info": {
   "codemirror_mode": {
    "name": "ipython",
    "version": 3
   },
   "file_extension": ".py",
   "mimetype": "text/x-python",
   "name": "python",
   "nbconvert_exporter": "python",
   "pygments_lexer": "ipython3",
   "version": "3.10.12"
  },
  "orig_nbformat": 4
 },
 "nbformat": 4,
 "nbformat_minor": 2
}
