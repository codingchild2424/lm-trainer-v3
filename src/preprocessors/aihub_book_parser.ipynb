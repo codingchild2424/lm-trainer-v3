{
 "cells": [
  {
   "cell_type": "code",
   "execution_count": 1,
   "metadata": {},
   "outputs": [],
   "source": [
    "data_folder_path = \"/workspace/datasets/NLP/raw_datasets/ai_hub/029.대규모 구매도서 기반 한국어 말뭉치 데이터/01.데이터/4.Sample/sample/라벨링데이터/000\""
   ]
  },
  {
   "cell_type": "code",
   "execution_count": 2,
   "metadata": {},
   "outputs": [
    {
     "name": "stdout",
     "output_type": "stream",
     "text": [
      "['/workspace/datasets/NLP/raw_datasets/ai_hub/029.대규모 구매도서 기반 한국어 말뭉치 데이터/01.데이터/4.Sample/sample/라벨링데이터/000/BOOK_CORPUS_000_TEXT_0033.json', '/workspace/datasets/NLP/raw_datasets/ai_hub/029.대규모 구매도서 기반 한국어 말뭉치 데이터/01.데이터/4.Sample/sample/라벨링데이터/000/BOOK_CORPUS_000_TEXT_0022.json', '/workspace/datasets/NLP/raw_datasets/ai_hub/029.대규모 구매도서 기반 한국어 말뭉치 데이터/01.데이터/4.Sample/sample/라벨링데이터/000/BOOK_CORPUS_000_TEXT_0034.json', '/workspace/datasets/NLP/raw_datasets/ai_hub/029.대규모 구매도서 기반 한국어 말뭉치 데이터/01.데이터/4.Sample/sample/라벨링데이터/000/BOOK_CORPUS_000_INFO.json', '/workspace/datasets/NLP/raw_datasets/ai_hub/029.대규모 구매도서 기반 한국어 말뭉치 데이터/01.데이터/4.Sample/sample/라벨링데이터/000/BOOK_CORPUS_000_TEXT_0011.json', '/workspace/datasets/NLP/raw_datasets/ai_hub/029.대규모 구매도서 기반 한국어 말뭉치 데이터/01.데이터/4.Sample/sample/라벨링데이터/000/BOOK_CORPUS_000_TEXT_0019.json', '/workspace/datasets/NLP/raw_datasets/ai_hub/029.대규모 구매도서 기반 한국어 말뭉치 데이터/01.데이터/4.Sample/sample/라벨링데이터/000/BOOK_CORPUS_000_TEXT_0003.json', '/workspace/datasets/NLP/raw_datasets/ai_hub/029.대규모 구매도서 기반 한국어 말뭉치 데이터/01.데이터/4.Sample/sample/라벨링데이터/000/BOOK_CORPUS_000_TEXT_0010.json', '/workspace/datasets/NLP/raw_datasets/ai_hub/029.대규모 구매도서 기반 한국어 말뭉치 데이터/01.데이터/4.Sample/sample/라벨링데이터/000/BOOK_CORPUS_000_TEXT_0049.json', '/workspace/datasets/NLP/raw_datasets/ai_hub/029.대규모 구매도서 기반 한국어 말뭉치 데이터/01.데이터/4.Sample/sample/라벨링데이터/000/BOOK_CORPUS_000_TEXT_0008.json', '/workspace/datasets/NLP/raw_datasets/ai_hub/029.대규모 구매도서 기반 한국어 말뭉치 데이터/01.데이터/4.Sample/sample/라벨링데이터/000/BOOK_CORPUS_000_TEXT_0028.json', '/workspace/datasets/NLP/raw_datasets/ai_hub/029.대규모 구매도서 기반 한국어 말뭉치 데이터/01.데이터/4.Sample/sample/라벨링데이터/000/BOOK_CORPUS_000_TEXT_0030.json', '/workspace/datasets/NLP/raw_datasets/ai_hub/029.대규모 구매도서 기반 한국어 말뭉치 데이터/01.데이터/4.Sample/sample/라벨링데이터/000/BOOK_CORPUS_000_TEXT_0036.json', '/workspace/datasets/NLP/raw_datasets/ai_hub/029.대규모 구매도서 기반 한국어 말뭉치 데이터/01.데이터/4.Sample/sample/라벨링데이터/000/BOOK_CORPUS_000_TEXT_0025.json', '/workspace/datasets/NLP/raw_datasets/ai_hub/029.대규모 구매도서 기반 한국어 말뭉치 데이터/01.데이터/4.Sample/sample/라벨링데이터/000/BOOK_CORPUS_000_TEXT_0007.json', '/workspace/datasets/NLP/raw_datasets/ai_hub/029.대규모 구매도서 기반 한국어 말뭉치 데이터/01.데이터/4.Sample/sample/라벨링데이터/000/BOOK_CORPUS_000_TEXT_0039.json', '/workspace/datasets/NLP/raw_datasets/ai_hub/029.대규모 구매도서 기반 한국어 말뭉치 데이터/01.데이터/4.Sample/sample/라벨링데이터/000/BOOK_CORPUS_000_TEXT_0002.json', '/workspace/datasets/NLP/raw_datasets/ai_hub/029.대규모 구매도서 기반 한국어 말뭉치 데이터/01.데이터/4.Sample/sample/라벨링데이터/000/BOOK_CORPUS_000_TEXT_0029.json', '/workspace/datasets/NLP/raw_datasets/ai_hub/029.대규모 구매도서 기반 한국어 말뭉치 데이터/01.데이터/4.Sample/sample/라벨링데이터/000/BOOK_CORPUS_000_TEXT_0032.json', '/workspace/datasets/NLP/raw_datasets/ai_hub/029.대규모 구매도서 기반 한국어 말뭉치 데이터/01.데이터/4.Sample/sample/라벨링데이터/000/BOOK_CORPUS_000_TEXT_0040.json', '/workspace/datasets/NLP/raw_datasets/ai_hub/029.대규모 구매도서 기반 한국어 말뭉치 데이터/01.데이터/4.Sample/sample/라벨링데이터/000/BOOK_CORPUS_000_TEXT_0006.json', '/workspace/datasets/NLP/raw_datasets/ai_hub/029.대규모 구매도서 기반 한국어 말뭉치 데이터/01.데이터/4.Sample/sample/라벨링데이터/000/BOOK_CORPUS_000_TEXT_0016.json', '/workspace/datasets/NLP/raw_datasets/ai_hub/029.대규모 구매도서 기반 한국어 말뭉치 데이터/01.데이터/4.Sample/sample/라벨링데이터/000/BOOK_CORPUS_000_TEXT_0012.json', '/workspace/datasets/NLP/raw_datasets/ai_hub/029.대규모 구매도서 기반 한국어 말뭉치 데이터/01.데이터/4.Sample/sample/라벨링데이터/000/BOOK_CORPUS_000_TEXT_0018.json', '/workspace/datasets/NLP/raw_datasets/ai_hub/029.대규모 구매도서 기반 한국어 말뭉치 데이터/01.데이터/4.Sample/sample/라벨링데이터/000/BOOK_CORPUS_000_TEXT_0017.json', '/workspace/datasets/NLP/raw_datasets/ai_hub/029.대규모 구매도서 기반 한국어 말뭉치 데이터/01.데이터/4.Sample/sample/라벨링데이터/000/BOOK_CORPUS_000_TEXT_0023.json', '/workspace/datasets/NLP/raw_datasets/ai_hub/029.대규모 구매도서 기반 한국어 말뭉치 데이터/01.데이터/4.Sample/sample/라벨링데이터/000/BOOK_CORPUS_000_TEXT_0043.json', '/workspace/datasets/NLP/raw_datasets/ai_hub/029.대규모 구매도서 기반 한국어 말뭉치 데이터/01.데이터/4.Sample/sample/라벨링데이터/000/BOOK_CORPUS_000_TEXT_0001.json', '/workspace/datasets/NLP/raw_datasets/ai_hub/029.대규모 구매도서 기반 한국어 말뭉치 데이터/01.데이터/4.Sample/sample/라벨링데이터/000/BOOK_CORPUS_000_TEXT_0041.json', '/workspace/datasets/NLP/raw_datasets/ai_hub/029.대규모 구매도서 기반 한국어 말뭉치 데이터/01.데이터/4.Sample/sample/라벨링데이터/000/BOOK_CORPUS_000_TEXT_0047.json', '/workspace/datasets/NLP/raw_datasets/ai_hub/029.대규모 구매도서 기반 한국어 말뭉치 데이터/01.데이터/4.Sample/sample/라벨링데이터/000/BOOK_CORPUS_000_TEXT_0050.json', '/workspace/datasets/NLP/raw_datasets/ai_hub/029.대규모 구매도서 기반 한국어 말뭉치 데이터/01.데이터/4.Sample/sample/라벨링데이터/000/BOOK_CORPUS_000_TEXT_0031.json', '/workspace/datasets/NLP/raw_datasets/ai_hub/029.대규모 구매도서 기반 한국어 말뭉치 데이터/01.데이터/4.Sample/sample/라벨링데이터/000/BOOK_CORPUS_000_TEXT_0005.json', '/workspace/datasets/NLP/raw_datasets/ai_hub/029.대규모 구매도서 기반 한국어 말뭉치 데이터/01.데이터/4.Sample/sample/라벨링데이터/000/BOOK_CORPUS_000_TEXT_0021.json', '/workspace/datasets/NLP/raw_datasets/ai_hub/029.대규모 구매도서 기반 한국어 말뭉치 데이터/01.데이터/4.Sample/sample/라벨링데이터/000/BOOK_CORPUS_000_TEXT_0045.json', '/workspace/datasets/NLP/raw_datasets/ai_hub/029.대규모 구매도서 기반 한국어 말뭉치 데이터/01.데이터/4.Sample/sample/라벨링데이터/000/BOOK_CORPUS_000_TEXT_0048.json', '/workspace/datasets/NLP/raw_datasets/ai_hub/029.대규모 구매도서 기반 한국어 말뭉치 데이터/01.데이터/4.Sample/sample/라벨링데이터/000/BOOK_CORPUS_000_TEXT_0037.json', '/workspace/datasets/NLP/raw_datasets/ai_hub/029.대규모 구매도서 기반 한국어 말뭉치 데이터/01.데이터/4.Sample/sample/라벨링데이터/000/BOOK_CORPUS_000_TEXT_0015.json', '/workspace/datasets/NLP/raw_datasets/ai_hub/029.대규모 구매도서 기반 한국어 말뭉치 데이터/01.데이터/4.Sample/sample/라벨링데이터/000/BOOK_CORPUS_000_TEXT_0042.json', '/workspace/datasets/NLP/raw_datasets/ai_hub/029.대규모 구매도서 기반 한국어 말뭉치 데이터/01.데이터/4.Sample/sample/라벨링데이터/000/BOOK_CORPUS_000_TEXT_0004.json', '/workspace/datasets/NLP/raw_datasets/ai_hub/029.대규모 구매도서 기반 한국어 말뭉치 데이터/01.데이터/4.Sample/sample/라벨링데이터/000/BOOK_CORPUS_000_TEXT_0035.json', '/workspace/datasets/NLP/raw_datasets/ai_hub/029.대규모 구매도서 기반 한국어 말뭉치 데이터/01.데이터/4.Sample/sample/라벨링데이터/000/BOOK_CORPUS_000_TEXT_0009.json', '/workspace/datasets/NLP/raw_datasets/ai_hub/029.대규모 구매도서 기반 한국어 말뭉치 데이터/01.데이터/4.Sample/sample/라벨링데이터/000/BOOK_CORPUS_000_TEXT_0020.json', '/workspace/datasets/NLP/raw_datasets/ai_hub/029.대규모 구매도서 기반 한국어 말뭉치 데이터/01.데이터/4.Sample/sample/라벨링데이터/000/BOOK_CORPUS_000_TEXT_0038.json', '/workspace/datasets/NLP/raw_datasets/ai_hub/029.대규모 구매도서 기반 한국어 말뭉치 데이터/01.데이터/4.Sample/sample/라벨링데이터/000/BOOK_CORPUS_000_TEXT_0026.json', '/workspace/datasets/NLP/raw_datasets/ai_hub/029.대규모 구매도서 기반 한국어 말뭉치 데이터/01.데이터/4.Sample/sample/라벨링데이터/000/BOOK_CORPUS_000_TEXT_0046.json', '/workspace/datasets/NLP/raw_datasets/ai_hub/029.대규모 구매도서 기반 한국어 말뭉치 데이터/01.데이터/4.Sample/sample/라벨링데이터/000/BOOK_CORPUS_000_TEXT_0044.json', '/workspace/datasets/NLP/raw_datasets/ai_hub/029.대규모 구매도서 기반 한국어 말뭉치 데이터/01.데이터/4.Sample/sample/라벨링데이터/000/BOOK_CORPUS_000_TEXT_0014.json', '/workspace/datasets/NLP/raw_datasets/ai_hub/029.대규모 구매도서 기반 한국어 말뭉치 데이터/01.데이터/4.Sample/sample/라벨링데이터/000/BOOK_CORPUS_000_TEXT_0024.json', '/workspace/datasets/NLP/raw_datasets/ai_hub/029.대규모 구매도서 기반 한국어 말뭉치 데이터/01.데이터/4.Sample/sample/라벨링데이터/000/BOOK_CORPUS_000_TEXT_0027.json', '/workspace/datasets/NLP/raw_datasets/ai_hub/029.대규모 구매도서 기반 한국어 말뭉치 데이터/01.데이터/4.Sample/sample/라벨링데이터/000/BOOK_CORPUS_000_TEXT_0013.json']\n"
     ]
    }
   ],
   "source": [
    "import pandas as pd\n",
    "import os\n",
    "\n",
    "file_path_list = [os.path.join(data_folder_path, file_name) for file_name in os.listdir(data_folder_path)]\n",
    "\n",
    "print(file_path_list)"
   ]
  },
  {
   "cell_type": "code",
   "execution_count": 3,
   "metadata": {},
   "outputs": [
    {
     "name": "stdout",
     "output_type": "stream",
     "text": [
      "{'info': {'kdc': '005', 'class': 0, 'author': {}, 'published_year': 2018}, 'sentences': [{'text': '그래서 모두 만족하는 것은 에프이다.', 'original_text': '그래서 모두 만족하는 것은 F이다.', 'char_count': 20, 'word_count': 5, 'noise_ratio': -0.05263157894736842, 'id': 'BOOK_CORPUS_000.320001.1'}], 'id': 'BOOK_CORPUS_000.320001'}\n"
     ]
    }
   ],
   "source": [
    "import json\n",
    "\n",
    "for file_path in file_path_list:\n",
    "    with open(file_path, \"r\") as f:\n",
    "        json_data = json.load(f)\n",
    "\n",
    "        print(json_data['paragraphs'][0])\n",
    "        \n",
    "        break"
   ]
  },
  {
   "cell_type": "code",
   "execution_count": null,
   "metadata": {},
   "outputs": [],
   "source": []
  }
 ],
 "metadata": {
  "kernelspec": {
   "display_name": "Python 3",
   "language": "python",
   "name": "python3"
  },
  "language_info": {
   "codemirror_mode": {
    "name": "ipython",
    "version": 3
   },
   "file_extension": ".py",
   "mimetype": "text/x-python",
   "name": "python",
   "nbconvert_exporter": "python",
   "pygments_lexer": "ipython3",
   "version": "3.10.12"
  },
  "orig_nbformat": 4
 },
 "nbformat": 4,
 "nbformat_minor": 2
}
