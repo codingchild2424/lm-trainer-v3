{
 "cells": [
  {
   "cell_type": "code",
   "execution_count": 6,
   "metadata": {},
   "outputs": [],
   "source": [
    "import pandas as pd\n",
    "import os\n",
    "import numpy as np\n",
    "\n",
    "\n",
    "path = \"/workspace/Coding/lm-trainer/datasets/raw_datasets/읽기마당 이미지\"\n",
    "\n",
    "# get folder list\n",
    "folder_list = os.listdir(path)\n",
    "\n",
    "file_name_list = []\n",
    "\n",
    "for folder_name in folder_list:\n",
    "    # get file list in folder\n",
    "    file_list = os.listdir(path + \"/\" + folder_name)\n",
    "    \n",
    "    file_full_name = [path + \"/\" + folder_name + \"/\" + file_name for file_name in file_list]\n",
    "    \n",
    "    file_name_list.extend(file_full_name)"
   ]
  },
  {
   "cell_type": "code",
   "execution_count": 7,
   "metadata": {},
   "outputs": [],
   "source": [
    "from img2pdf import convert\n",
    "\n",
    "input_file = file_name_list[0]\n",
    "output_file = 'path_for_output.pdf'\n",
    "\n",
    "with open(output_file, \"wb\") as f:\n",
    "    f.write(convert([input_file]))\n"
   ]
  },
  {
   "cell_type": "code",
   "execution_count": 8,
   "metadata": {},
   "outputs": [],
   "source": []
  },
  {
   "cell_type": "code",
   "execution_count": null,
   "metadata": {},
   "outputs": [],
   "source": []
  }
 ],
 "metadata": {
  "kernelspec": {
   "display_name": "Python 3",
   "language": "python",
   "name": "python3"
  },
  "language_info": {
   "codemirror_mode": {
    "name": "ipython",
    "version": 3
   },
   "file_extension": ".py",
   "mimetype": "text/x-python",
   "name": "python",
   "nbconvert_exporter": "python",
   "pygments_lexer": "ipython3",
   "version": "3.10.12"
  },
  "orig_nbformat": 4
 },
 "nbformat": 4,
 "nbformat_minor": 2
}
