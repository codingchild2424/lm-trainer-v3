{
 "cells": [
  {
   "cell_type": "code",
   "execution_count": 22,
   "metadata": {},
   "outputs": [],
   "source": [
    "train_folder_path = \"/workspace/datasets/NLP/raw_datasets/ai_hub/030.웹데이터 기반 한국어 말뭉치 데이터/01.데이터/1.Training/라벨링데이터\"\n",
    "valid_folder_path = \"/workspace/datasets/NLP/raw_datasets/ai_hub/030.웹데이터 기반 한국어 말뭉치 데이터/01.데이터/2.Validation/라벨링데이터\""
   ]
  },
  {
   "cell_type": "code",
   "execution_count": 23,
   "metadata": {},
   "outputs": [
    {
     "name": "stdout",
     "output_type": "stream",
     "text": [
      "all_folder_path_list:  ['/workspace/datasets/NLP/raw_datasets/ai_hub/030.웹데이터 기반 한국어 말뭉치 데이터/01.데이터/1.Training/라벨링데이터/지역', '/workspace/datasets/NLP/raw_datasets/ai_hub/030.웹데이터 기반 한국어 말뭉치 데이터/01.데이터/1.Training/라벨링데이터/라이프스타일', '/workspace/datasets/NLP/raw_datasets/ai_hub/030.웹데이터 기반 한국어 말뭉치 데이터/01.데이터/1.Training/라벨링데이터/교육', '/workspace/datasets/NLP/raw_datasets/ai_hub/030.웹데이터 기반 한국어 말뭉치 데이터/01.데이터/1.Training/라벨링데이터/국제', '/workspace/datasets/NLP/raw_datasets/ai_hub/030.웹데이터 기반 한국어 말뭉치 데이터/01.데이터/1.Training/라벨링데이터/사건사고', '/workspace/datasets/NLP/raw_datasets/ai_hub/030.웹데이터 기반 한국어 말뭉치 데이터/01.데이터/1.Training/라벨링데이터/취미', '/workspace/datasets/NLP/raw_datasets/ai_hub/030.웹데이터 기반 한국어 말뭉치 데이터/01.데이터/1.Training/라벨링데이터/스포츠', '/workspace/datasets/NLP/raw_datasets/ai_hub/030.웹데이터 기반 한국어 말뭉치 데이터/01.데이터/1.Training/라벨링데이터/경제', '/workspace/datasets/NLP/raw_datasets/ai_hub/030.웹데이터 기반 한국어 말뭉치 데이터/01.데이터/1.Training/라벨링데이터/IT_과학', '/workspace/datasets/NLP/raw_datasets/ai_hub/030.웹데이터 기반 한국어 말뭉치 데이터/01.데이터/1.Training/라벨링데이터/건강', '/workspace/datasets/NLP/raw_datasets/ai_hub/030.웹데이터 기반 한국어 말뭉치 데이터/01.데이터/1.Training/라벨링데이터/문화', '/workspace/datasets/NLP/raw_datasets/ai_hub/030.웹데이터 기반 한국어 말뭉치 데이터/01.데이터/1.Training/라벨링데이터/산업', '/workspace/datasets/NLP/raw_datasets/ai_hub/030.웹데이터 기반 한국어 말뭉치 데이터/01.데이터/1.Training/라벨링데이터/연예', '/workspace/datasets/NLP/raw_datasets/ai_hub/030.웹데이터 기반 한국어 말뭉치 데이터/01.데이터/1.Training/라벨링데이터/정치', '/workspace/datasets/NLP/raw_datasets/ai_hub/030.웹데이터 기반 한국어 말뭉치 데이터/01.데이터/1.Training/라벨링데이터/여성복지', '/workspace/datasets/NLP/raw_datasets/ai_hub/030.웹데이터 기반 한국어 말뭉치 데이터/01.데이터/1.Training/라벨링데이터/사회일발', '/workspace/datasets/NLP/raw_datasets/ai_hub/030.웹데이터 기반 한국어 말뭉치 데이터/01.데이터/1.Training/라벨링데이터/여행레저', '/workspace/datasets/NLP/raw_datasets/ai_hub/030.웹데이터 기반 한국어 말뭉치 데이터/01.데이터/2.Validation/라벨링데이터/지역', '/workspace/datasets/NLP/raw_datasets/ai_hub/030.웹데이터 기반 한국어 말뭉치 데이터/01.데이터/2.Validation/라벨링데이터/라이프스타일', '/workspace/datasets/NLP/raw_datasets/ai_hub/030.웹데이터 기반 한국어 말뭉치 데이터/01.데이터/2.Validation/라벨링데이터/교육', '/workspace/datasets/NLP/raw_datasets/ai_hub/030.웹데이터 기반 한국어 말뭉치 데이터/01.데이터/2.Validation/라벨링데이터/국제', '/workspace/datasets/NLP/raw_datasets/ai_hub/030.웹데이터 기반 한국어 말뭉치 데이터/01.데이터/2.Validation/라벨링데이터/사건사고', '/workspace/datasets/NLP/raw_datasets/ai_hub/030.웹데이터 기반 한국어 말뭉치 데이터/01.데이터/2.Validation/라벨링데이터/취미', '/workspace/datasets/NLP/raw_datasets/ai_hub/030.웹데이터 기반 한국어 말뭉치 데이터/01.데이터/2.Validation/라벨링데이터/사회일반', '/workspace/datasets/NLP/raw_datasets/ai_hub/030.웹데이터 기반 한국어 말뭉치 데이터/01.데이터/2.Validation/라벨링데이터/스포츠', '/workspace/datasets/NLP/raw_datasets/ai_hub/030.웹데이터 기반 한국어 말뭉치 데이터/01.데이터/2.Validation/라벨링데이터/경제', '/workspace/datasets/NLP/raw_datasets/ai_hub/030.웹데이터 기반 한국어 말뭉치 데이터/01.데이터/2.Validation/라벨링데이터/IT_과학', '/workspace/datasets/NLP/raw_datasets/ai_hub/030.웹데이터 기반 한국어 말뭉치 데이터/01.데이터/2.Validation/라벨링데이터/건강', '/workspace/datasets/NLP/raw_datasets/ai_hub/030.웹데이터 기반 한국어 말뭉치 데이터/01.데이터/2.Validation/라벨링데이터/문화', '/workspace/datasets/NLP/raw_datasets/ai_hub/030.웹데이터 기반 한국어 말뭉치 데이터/01.데이터/2.Validation/라벨링데이터/산업', '/workspace/datasets/NLP/raw_datasets/ai_hub/030.웹데이터 기반 한국어 말뭉치 데이터/01.데이터/2.Validation/라벨링데이터/연예', '/workspace/datasets/NLP/raw_datasets/ai_hub/030.웹데이터 기반 한국어 말뭉치 데이터/01.데이터/2.Validation/라벨링데이터/정치', '/workspace/datasets/NLP/raw_datasets/ai_hub/030.웹데이터 기반 한국어 말뭉치 데이터/01.데이터/2.Validation/라벨링데이터/여성복지', '/workspace/datasets/NLP/raw_datasets/ai_hub/030.웹데이터 기반 한국어 말뭉치 데이터/01.데이터/2.Validation/라벨링데이터/여행레저']\n"
     ]
    }
   ],
   "source": [
    "import pandas as pd\n",
    "import os\n",
    "\n",
    "train_sub_folder_list = os.listdir(train_folder_path)\n",
    "train_sub_folder_name_list = [os.path.join(train_folder_path, x) for x in train_sub_folder_list]\n",
    "\n",
    "valid_sub_folder_list = os.listdir(valid_folder_path)\n",
    "valid_sub_folder_name_list = [os.path.join(valid_folder_path, x) for x in valid_sub_folder_list]\n",
    "\n",
    "# concat all paths\n",
    "all_folder_path_list = train_sub_folder_name_list + valid_sub_folder_name_list\n",
    "\n",
    "print(\"all_folder_path_list: \", all_folder_path_list)"
   ]
  },
  {
   "cell_type": "code",
   "execution_count": 25,
   "metadata": {},
   "outputs": [
    {
     "name": "stderr",
     "output_type": "stream",
     "text": [
      "Processing:   3%|▎         | 1/34 [00:29<16:20, 29.71s/it]\n"
     ]
    },
    {
     "ename": "KeyboardInterrupt",
     "evalue": "",
     "output_type": "error",
     "traceback": [
      "\u001b[0;31m---------------------------------------------------------------------------\u001b[0m",
      "\u001b[0;31mKeyboardInterrupt\u001b[0m                         Traceback (most recent call last)",
      "\u001b[1;32m/workspace/Coding/lm-trainer/src/preprocessors/aihub_web_parser2.ipynb Cell 3\u001b[0m line \u001b[0;36m1\n\u001b[1;32m     <a href='vscode-notebook-cell://attached-container%2B7b22636f6e7461696e65724e616d65223a222f7072655f646576222c2273657474696e6773223a7b22686f7374223a227373683a2f2f613130302d31227d7d/workspace/Coding/lm-trainer/src/preprocessors/aihub_web_parser2.ipynb#W2sdnNjb2RlLXJlbW90ZQ%3D%3D?line=13'>14</a>\u001b[0m \u001b[39mfor\u001b[39;00m file_path \u001b[39min\u001b[39;00m file_list:\n\u001b[1;32m     <a href='vscode-notebook-cell://attached-container%2B7b22636f6e7461696e65724e616d65223a222f7072655f646576222c2273657474696e6773223a7b22686f7374223a227373683a2f2f613130302d31227d7d/workspace/Coding/lm-trainer/src/preprocessors/aihub_web_parser2.ipynb#W2sdnNjb2RlLXJlbW90ZQ%3D%3D?line=15'>16</a>\u001b[0m     \u001b[39mwith\u001b[39;00m \u001b[39mopen\u001b[39m(file_path, \u001b[39m'\u001b[39m\u001b[39mr\u001b[39m\u001b[39m'\u001b[39m, encoding\u001b[39m=\u001b[39m\u001b[39m'\u001b[39m\u001b[39mutf-8\u001b[39m\u001b[39m'\u001b[39m) \u001b[39mas\u001b[39;00m f:\n\u001b[1;32m     <a href='vscode-notebook-cell://attached-container%2B7b22636f6e7461696e65724e616d65223a222f7072655f646576222c2273657474696e6773223a7b22686f7374223a227373683a2f2f613130302d31227d7d/workspace/Coding/lm-trainer/src/preprocessors/aihub_web_parser2.ipynb#W2sdnNjb2RlLXJlbW90ZQ%3D%3D?line=16'>17</a>\u001b[0m         \u001b[39m# json file\u001b[39;00m\n\u001b[0;32m---> <a href='vscode-notebook-cell://attached-container%2B7b22636f6e7461696e65724e616d65223a222f7072655f646576222c2273657474696e6773223a7b22686f7374223a227373683a2f2f613130302d31227d7d/workspace/Coding/lm-trainer/src/preprocessors/aihub_web_parser2.ipynb#W2sdnNjb2RlLXJlbW90ZQ%3D%3D?line=17'>18</a>\u001b[0m         json_data \u001b[39m=\u001b[39m json\u001b[39m.\u001b[39;49mload(f)\n\u001b[1;32m     <a href='vscode-notebook-cell://attached-container%2B7b22636f6e7461696e65724e616d65223a222f7072655f646576222c2273657474696e6773223a7b22686f7374223a227373683a2f2f613130302d31227d7d/workspace/Coding/lm-trainer/src/preprocessors/aihub_web_parser2.ipynb#W2sdnNjb2RlLXJlbW90ZQ%3D%3D?line=19'>20</a>\u001b[0m         \u001b[39mfor\u001b[39;00m json_text \u001b[39min\u001b[39;00m json_data[\u001b[39m'\u001b[39m\u001b[39mnamed_entity\u001b[39m\u001b[39m'\u001b[39m]:\n\u001b[1;32m     <a href='vscode-notebook-cell://attached-container%2B7b22636f6e7461696e65724e616d65223a222f7072655f646576222c2273657474696e6773223a7b22686f7374223a227373683a2f2f613130302d31227d7d/workspace/Coding/lm-trainer/src/preprocessors/aihub_web_parser2.ipynb#W2sdnNjb2RlLXJlbW90ZQ%3D%3D?line=21'>22</a>\u001b[0m             title \u001b[39m=\u001b[39m json_text[\u001b[39m'\u001b[39m\u001b[39mtitle\u001b[39m\u001b[39m'\u001b[39m][\u001b[39m0\u001b[39m][\u001b[39m'\u001b[39m\u001b[39msentence\u001b[39m\u001b[39m'\u001b[39m]\n",
      "File \u001b[0;32m/usr/local/lib/python3.10/json/__init__.py:293\u001b[0m, in \u001b[0;36mload\u001b[0;34m(fp, cls, object_hook, parse_float, parse_int, parse_constant, object_pairs_hook, **kw)\u001b[0m\n\u001b[1;32m    274\u001b[0m \u001b[39mdef\u001b[39;00m \u001b[39mload\u001b[39m(fp, \u001b[39m*\u001b[39m, \u001b[39mcls\u001b[39m\u001b[39m=\u001b[39m\u001b[39mNone\u001b[39;00m, object_hook\u001b[39m=\u001b[39m\u001b[39mNone\u001b[39;00m, parse_float\u001b[39m=\u001b[39m\u001b[39mNone\u001b[39;00m,\n\u001b[1;32m    275\u001b[0m         parse_int\u001b[39m=\u001b[39m\u001b[39mNone\u001b[39;00m, parse_constant\u001b[39m=\u001b[39m\u001b[39mNone\u001b[39;00m, object_pairs_hook\u001b[39m=\u001b[39m\u001b[39mNone\u001b[39;00m, \u001b[39m*\u001b[39m\u001b[39m*\u001b[39mkw):\n\u001b[1;32m    276\u001b[0m \u001b[39m    \u001b[39m\u001b[39m\"\"\"Deserialize ``fp`` (a ``.read()``-supporting file-like object containing\u001b[39;00m\n\u001b[1;32m    277\u001b[0m \u001b[39m    a JSON document) to a Python object.\u001b[39;00m\n\u001b[1;32m    278\u001b[0m \n\u001b[0;32m   (...)\u001b[0m\n\u001b[1;32m    291\u001b[0m \u001b[39m    kwarg; otherwise ``JSONDecoder`` is used.\u001b[39;00m\n\u001b[1;32m    292\u001b[0m \u001b[39m    \"\"\"\u001b[39;00m\n\u001b[0;32m--> 293\u001b[0m     \u001b[39mreturn\u001b[39;00m loads(fp\u001b[39m.\u001b[39;49mread(),\n\u001b[1;32m    294\u001b[0m         \u001b[39mcls\u001b[39m\u001b[39m=\u001b[39m\u001b[39mcls\u001b[39m, object_hook\u001b[39m=\u001b[39mobject_hook,\n\u001b[1;32m    295\u001b[0m         parse_float\u001b[39m=\u001b[39mparse_float, parse_int\u001b[39m=\u001b[39mparse_int,\n\u001b[1;32m    296\u001b[0m         parse_constant\u001b[39m=\u001b[39mparse_constant, object_pairs_hook\u001b[39m=\u001b[39mobject_pairs_hook, \u001b[39m*\u001b[39m\u001b[39m*\u001b[39mkw)\n",
      "File \u001b[0;32m/usr/local/lib/python3.10/codecs.py:319\u001b[0m, in \u001b[0;36mBufferedIncrementalDecoder.decode\u001b[0;34m(self, input, final)\u001b[0m\n\u001b[1;32m    314\u001b[0m \u001b[39mdef\u001b[39;00m \u001b[39m_buffer_decode\u001b[39m(\u001b[39mself\u001b[39m, \u001b[39minput\u001b[39m, errors, final):\n\u001b[1;32m    315\u001b[0m     \u001b[39m# Overwrite this method in subclasses: It must decode input\u001b[39;00m\n\u001b[1;32m    316\u001b[0m     \u001b[39m# and return an (output, length consumed) tuple\u001b[39;00m\n\u001b[1;32m    317\u001b[0m     \u001b[39mraise\u001b[39;00m \u001b[39mNotImplementedError\u001b[39;00m\n\u001b[0;32m--> 319\u001b[0m \u001b[39mdef\u001b[39;00m \u001b[39mdecode\u001b[39m(\u001b[39mself\u001b[39m, \u001b[39minput\u001b[39m, final\u001b[39m=\u001b[39m\u001b[39mFalse\u001b[39;00m):\n\u001b[1;32m    320\u001b[0m     \u001b[39m# decode input (taking the buffer into account)\u001b[39;00m\n\u001b[1;32m    321\u001b[0m     data \u001b[39m=\u001b[39m \u001b[39mself\u001b[39m\u001b[39m.\u001b[39mbuffer \u001b[39m+\u001b[39m \u001b[39minput\u001b[39m\n\u001b[1;32m    322\u001b[0m     (result, consumed) \u001b[39m=\u001b[39m \u001b[39mself\u001b[39m\u001b[39m.\u001b[39m_buffer_decode(data, \u001b[39mself\u001b[39m\u001b[39m.\u001b[39merrors, final)\n",
      "\u001b[0;31mKeyboardInterrupt\u001b[0m: "
     ]
    }
   ],
   "source": [
    "import json\n",
    "from tqdm import tqdm\n",
    "\n",
    "full_text_list = []\n",
    "\n",
    "with tqdm(all_folder_path_list) as pbar:\n",
    "    pbar.set_description(\"Processing\")\n",
    "    for folder_path in pbar:\n",
    "        file_list = os.listdir(folder_path)\n",
    "        file_list = [os.path.join(folder_path, x) for x in file_list]\n",
    "        #print(\"file_list: \", file_list)\n",
    "        \n",
    "        # one file\n",
    "        for file_path in file_list:\n",
    "            \n",
    "            with open(file_path, 'r', encoding='utf-8') as f:\n",
    "                # json file\n",
    "                json_data = json.load(f)\n",
    "                \n",
    "                for json_text in json_data['named_entity']:\n",
    "                    \n",
    "                    title = json_text['title'][0]['sentence']\n",
    "                    content = \" \".join([i['sentence'] for i in json_text['content']])\n",
    "                    full_text = title + \"\\n\" + content\n",
    "                    \n",
    "                    # json text\n",
    "                    json_full_text = {'text': full_text}\n",
    "                    \n",
    "                    # append\n",
    "                    full_text_list.append(json_full_text)\n",
    "                    \n",
    "# save\n",
    "dst_path = \"\"\n"
   ]
  },
  {
   "cell_type": "code",
   "execution_count": null,
   "metadata": {},
   "outputs": [],
   "source": []
  }
 ],
 "metadata": {
  "kernelspec": {
   "display_name": "Python 3 (ipykernel)",
   "language": "python",
   "name": "python3"
  },
  "language_info": {
   "codemirror_mode": {
    "name": "ipython",
    "version": 3
   },
   "file_extension": ".py",
   "mimetype": "text/x-python",
   "name": "python",
   "nbconvert_exporter": "python",
   "pygments_lexer": "ipython3",
   "version": "3.10.12"
  },
  "orig_nbformat": 4
 },
 "nbformat": 4,
 "nbformat_minor": 2
}
