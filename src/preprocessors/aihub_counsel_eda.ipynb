{
 "cells": [
  {
   "cell_type": "code",
   "execution_count": 4,
   "metadata": {},
   "outputs": [
    {
     "name": "stdout",
     "output_type": "stream",
     "text": [
      "train_data length:  51628\n",
      "train_data[0]:  {'profile': {'persona-id': 'Pro_05349', 'persona': {'persona-id': 'A02_G02_C01', 'human': ['A02', 'G02'], 'computer': ['C01']}, 'emotion': {'emotion-id': 'S06_D02_E18', 'type': 'E18', 'situation': ['S06', 'D02']}}, 'talk': {'id': {'profile-id': 'Pro_05349', 'talk-id': 'Pro_05349_00053'}, 'content': {'HS01': '일은 왜 해도 해도 끝이 없을까? 화가 난다.', 'SS01': '많이 힘드시겠어요. 주위에 의논할 상대가 있나요?', 'HS02': '그냥 내가 해결하는 게 나아. 남들한테 부담 주고 싶지도 않고.', 'SS02': '혼자 해결하기로 했군요. 혼자서 해결하기 힘들면 주위에 의논할 사람을 찾아보세요. ', 'HS03': '', 'SS03': ''}}}\n"
     ]
    }
   ],
   "source": [
    "import json\n",
    "\n",
    "train_data_path = \"/workspace/Coding/lm-trainer/datasets/raw_datasets/counseling/ai_hub_counseling/ai_hub_counseling_train.json\"\n",
    "test_data_path = \"/workspace/Coding/lm-trainer/datasets/raw_datasets/counseling/ai_hub_counseling/ai_hub_counseling_test.json\"\n",
    "\n",
    "with open(train_data_path, \"r\", encoding=\"utf-8\") as f:\n",
    "    train_data = json.load(f)\n",
    "    \n",
    "    print(\"train_data length: \", len(train_data))\n",
    "    print(\"train_data[0]: \", train_data[0])"
   ]
  },
  {
   "cell_type": "code",
   "execution_count": 23,
   "metadata": {},
   "outputs": [
    {
     "data": {
      "text/plain": [
       "['일은 왜 해도 해도 끝이 없을까? 화가 난다.',\n",
       " '많이 힘드시겠어요. 주위에 의논할 상대가 있나요?',\n",
       " '그냥 내가 해결하는 게 나아. 남들한테 부담 주고 싶지도 않고.',\n",
       " '혼자 해결하기로 했군요. 혼자서 해결하기 힘들면 주위에 의논할 사람을 찾아보세요. ',\n",
       " '',\n",
       " '']"
      ]
     },
     "execution_count": 23,
     "metadata": {},
     "output_type": "execute_result"
    }
   ],
   "source": [
    "# get dictionary element\n",
    "\"\\n\".join(list(train_data[0]['talk']['content'].values()))"
   ]
  },
  {
   "cell_type": "code",
   "execution_count": null,
   "metadata": {},
   "outputs": [],
   "source": [
    "def get_data(data):\n",
    "    data_list = []\n",
    "    for i in range(len(data)):\n",
    "        data_list.append(list(data[i]['talk']['content'].values()))\n",
    "    return data_list"
   ]
  },
  {
   "cell_type": "code",
   "execution_count": null,
   "metadata": {},
   "outputs": [],
   "source": []
  }
 ],
 "metadata": {
  "kernelspec": {
   "display_name": "Python 3",
   "language": "python",
   "name": "python3"
  },
  "language_info": {
   "codemirror_mode": {
    "name": "ipython",
    "version": 3
   },
   "file_extension": ".py",
   "mimetype": "text/x-python",
   "name": "python",
   "nbconvert_exporter": "python",
   "pygments_lexer": "ipython3",
   "version": "3.10.13"
  },
  "orig_nbformat": 4
 },
 "nbformat": 4,
 "nbformat_minor": 2
}
