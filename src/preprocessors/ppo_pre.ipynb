{
 "cells": [
  {
   "cell_type": "code",
   "execution_count": 6,
   "metadata": {},
   "outputs": [],
   "source": [
    "src_path = \"/workspace/Coding/lm-trainer/datasets/pre_datasets/inst_data/ise_book_data_1000.json\"\n",
    "dst_path = \"/workspace/Coding/lm-trainer/datasets/pre_datasets/ppo_data/ise_book_data_1000.json\""
   ]
  },
  {
   "cell_type": "code",
   "execution_count": 9,
   "metadata": {},
   "outputs": [],
   "source": [
    "def append_to_dst(dst_path, data, language=\"ko\"):\n",
    "    with open(dst_path, \"a\") as f:\n",
    "        \n",
    "        if language == \"ko\":\n",
    "            json.dump(data, f, ensure_ascii=False)\n",
    "        else:\n",
    "            json.dump(data, f)\n",
    "        \n",
    "        f.write(\"\\n\")"
   ]
  },
  {
   "cell_type": "code",
   "execution_count": 10,
   "metadata": {},
   "outputs": [],
   "source": [
    "import json\n",
    "\n",
    "with open(src_path, 'r') as f:\n",
    "    # read line by line\n",
    "    lines = f.readlines()\n",
    "    # convert to json\n",
    "    \n",
    "    for line in lines:\n",
    "        data = json.loads(line)\n",
    "        front_part = \"\\n\\n\".join(data['text'].split(\"\\n\\n\")[:-1])\n",
    "        back_part = \"\\n\\n### 챗봇: \"\n",
    "        \n",
    "        total_text = {'text': front_part + back_part}\n",
    "        \n",
    "        append_to_dst(dst_path, total_text)"
   ]
  },
  {
   "cell_type": "code",
   "execution_count": null,
   "metadata": {},
   "outputs": [],
   "source": []
  }
 ],
 "metadata": {
  "kernelspec": {
   "display_name": "Python 3",
   "language": "python",
   "name": "python3"
  },
  "language_info": {
   "codemirror_mode": {
    "name": "ipython",
    "version": 3
   },
   "file_extension": ".py",
   "mimetype": "text/x-python",
   "name": "python",
   "nbconvert_exporter": "python",
   "pygments_lexer": "ipython3",
   "version": "3.10.12"
  },
  "orig_nbformat": 4
 },
 "nbformat": 4,
 "nbformat_minor": 2
}
